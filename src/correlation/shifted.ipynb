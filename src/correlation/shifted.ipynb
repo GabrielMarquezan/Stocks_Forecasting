{
 "cells": [
  {
   "cell_type": "code",
   "execution_count": 753,
   "id": "839337d3",
   "metadata": {},
   "outputs": [],
   "source": [
    "import numpy as np\n",
    "import pandas as pd\n",
    "import seaborn as sns\n",
    "from matplotlib.pylab import rcParams\n",
    "from crud import Connector\n",
    "import statsmodels.tsa.stattools as st\n",
    "import scipy.stats as stats\n",
    "import matplotlib.pyplot as plt\n",
    "from datetime import date, timedelta "
   ]
  },
  {
   "cell_type": "code",
   "execution_count": 754,
   "id": "110bce30",
   "metadata": {},
   "outputs": [],
   "source": [
    "rcParams['figure.figsize'] = 15, 6"
   ]
  },
  {
   "cell_type": "code",
   "execution_count": 755,
   "id": "8f539d20",
   "metadata": {},
   "outputs": [],
   "source": [
    "connector = Connector()\n",
    "prices = pd.DataFrame(connector.read_asset_closing_prices(\"SLC Agrícola\"), columns=['date', 'price'])\n",
    "prices.set_index('date', inplace=True)\n",
    "\n",
    "emotions = pd.DataFrame(connector.read_emotions_history(\"SLC Agrícola\"), columns=['date', 'emotion'])\n",
    "\n",
    "shift_days = 7\n",
    "\n",
    "for i in range(shift_days):\n",
    "    emotions.drop(emotions[emotions['date'] == date(2025, 8, 11 - i)].index, inplace=True)\n",
    "\n",
    "emotions['date'] += timedelta(days=shift_days)"
   ]
  },
  {
   "cell_type": "code",
   "execution_count": 756,
   "id": "10a109f3",
   "metadata": {},
   "outputs": [
    {
     "name": "stderr",
     "output_type": "stream",
     "text": [
      "C:\\Users\\gabri\\AppData\\Local\\Temp\\ipykernel_9524\\708896308.py:3: FutureWarning: Downcasting behavior in `replace` is deprecated and will be removed in a future version. To retain the old behavior, explicitly call `result.infer_objects(copy=False)`. To opt-in to the future behavior, set `pd.set_option('future.no_silent_downcasting', True)`\n",
      "  emotions['emotion'] = emotions['emotion'].replace('neutral', 0)\n"
     ]
    }
   ],
   "source": [
    "emotions['emotion'] = emotions['emotion'].replace('very positive', 2)\n",
    "emotions['emotion'] = emotions['emotion'].replace('positive', 1)\n",
    "emotions['emotion'] = emotions['emotion'].replace('neutral', 0)\n",
    "emotions['emotion'] = emotions['emotion'].replace('negative', -1)\n",
    "emotions['emotion'] = emotions['emotion'].replace('very negative', -2)\n",
    "\n",
    "for i in range(shift_days):\n",
    "    emotions = pd.concat([emotions, pd.DataFrame([[date(2025, 7, 11 + i), emotions['emotion'].mean()]], columns=['date', 'emotion'])], ignore_index=True)\n",
    "\n",
    "emotions.sort_values(by='date', inplace=True)"
   ]
  },
  {
   "cell_type": "code",
   "execution_count": 757,
   "id": "40e7a985",
   "metadata": {},
   "outputs": [
    {
     "data": {
      "text/html": [
       "<div>\n",
       "<style scoped>\n",
       "    .dataframe tbody tr th:only-of-type {\n",
       "        vertical-align: middle;\n",
       "    }\n",
       "\n",
       "    .dataframe tbody tr th {\n",
       "        vertical-align: top;\n",
       "    }\n",
       "\n",
       "    .dataframe thead th {\n",
       "        text-align: right;\n",
       "    }\n",
       "</style>\n",
       "<table border=\"1\" class=\"dataframe\">\n",
       "  <thead>\n",
       "    <tr style=\"text-align: right;\">\n",
       "      <th></th>\n",
       "      <th>emotion</th>\n",
       "    </tr>\n",
       "    <tr>\n",
       "      <th>date</th>\n",
       "      <th></th>\n",
       "    </tr>\n",
       "  </thead>\n",
       "  <tbody>\n",
       "    <tr>\n",
       "      <th>2025-07-11</th>\n",
       "      <td>0.555556</td>\n",
       "    </tr>\n",
       "    <tr>\n",
       "      <th>2025-07-12</th>\n",
       "      <td>0.555556</td>\n",
       "    </tr>\n",
       "    <tr>\n",
       "      <th>2025-07-13</th>\n",
       "      <td>0.555556</td>\n",
       "    </tr>\n",
       "    <tr>\n",
       "      <th>2025-07-14</th>\n",
       "      <td>0.555556</td>\n",
       "    </tr>\n",
       "    <tr>\n",
       "      <th>2025-07-15</th>\n",
       "      <td>0.555556</td>\n",
       "    </tr>\n",
       "    <tr>\n",
       "      <th>2025-07-16</th>\n",
       "      <td>0.555556</td>\n",
       "    </tr>\n",
       "    <tr>\n",
       "      <th>2025-07-17</th>\n",
       "      <td>0.555556</td>\n",
       "    </tr>\n",
       "    <tr>\n",
       "      <th>2025-07-18</th>\n",
       "      <td>1.000000</td>\n",
       "    </tr>\n",
       "    <tr>\n",
       "      <th>2025-07-18</th>\n",
       "      <td>0.000000</td>\n",
       "    </tr>\n",
       "    <tr>\n",
       "      <th>2025-07-19</th>\n",
       "      <td>1.000000</td>\n",
       "    </tr>\n",
       "    <tr>\n",
       "      <th>2025-07-20</th>\n",
       "      <td>1.000000</td>\n",
       "    </tr>\n",
       "    <tr>\n",
       "      <th>2025-07-21</th>\n",
       "      <td>1.000000</td>\n",
       "    </tr>\n",
       "    <tr>\n",
       "      <th>2025-07-22</th>\n",
       "      <td>1.000000</td>\n",
       "    </tr>\n",
       "    <tr>\n",
       "      <th>2025-07-23</th>\n",
       "      <td>1.000000</td>\n",
       "    </tr>\n",
       "    <tr>\n",
       "      <th>2025-07-24</th>\n",
       "      <td>0.000000</td>\n",
       "    </tr>\n",
       "    <tr>\n",
       "      <th>2025-07-24</th>\n",
       "      <td>1.000000</td>\n",
       "    </tr>\n",
       "    <tr>\n",
       "      <th>2025-07-25</th>\n",
       "      <td>1.000000</td>\n",
       "    </tr>\n",
       "    <tr>\n",
       "      <th>2025-07-26</th>\n",
       "      <td>1.000000</td>\n",
       "    </tr>\n",
       "    <tr>\n",
       "      <th>2025-07-27</th>\n",
       "      <td>0.000000</td>\n",
       "    </tr>\n",
       "    <tr>\n",
       "      <th>2025-07-28</th>\n",
       "      <td>0.000000</td>\n",
       "    </tr>\n",
       "    <tr>\n",
       "      <th>2025-07-29</th>\n",
       "      <td>0.000000</td>\n",
       "    </tr>\n",
       "    <tr>\n",
       "      <th>2025-07-30</th>\n",
       "      <td>0.000000</td>\n",
       "    </tr>\n",
       "    <tr>\n",
       "      <th>2025-07-31</th>\n",
       "      <td>0.000000</td>\n",
       "    </tr>\n",
       "    <tr>\n",
       "      <th>2025-08-01</th>\n",
       "      <td>0.000000</td>\n",
       "    </tr>\n",
       "    <tr>\n",
       "      <th>2025-08-02</th>\n",
       "      <td>0.000000</td>\n",
       "    </tr>\n",
       "    <tr>\n",
       "      <th>2025-08-03</th>\n",
       "      <td>0.000000</td>\n",
       "    </tr>\n",
       "    <tr>\n",
       "      <th>2025-08-04</th>\n",
       "      <td>0.000000</td>\n",
       "    </tr>\n",
       "    <tr>\n",
       "      <th>2025-08-05</th>\n",
       "      <td>0.000000</td>\n",
       "    </tr>\n",
       "    <tr>\n",
       "      <th>2025-08-06</th>\n",
       "      <td>1.000000</td>\n",
       "    </tr>\n",
       "    <tr>\n",
       "      <th>2025-08-07</th>\n",
       "      <td>1.000000</td>\n",
       "    </tr>\n",
       "    <tr>\n",
       "      <th>2025-08-08</th>\n",
       "      <td>1.000000</td>\n",
       "    </tr>\n",
       "    <tr>\n",
       "      <th>2025-08-09</th>\n",
       "      <td>1.000000</td>\n",
       "    </tr>\n",
       "    <tr>\n",
       "      <th>2025-08-10</th>\n",
       "      <td>1.000000</td>\n",
       "    </tr>\n",
       "    <tr>\n",
       "      <th>2025-08-11</th>\n",
       "      <td>1.000000</td>\n",
       "    </tr>\n",
       "  </tbody>\n",
       "</table>\n",
       "</div>"
      ],
      "text/plain": [
       "             emotion\n",
       "date                \n",
       "2025-07-11  0.555556\n",
       "2025-07-12  0.555556\n",
       "2025-07-13  0.555556\n",
       "2025-07-14  0.555556\n",
       "2025-07-15  0.555556\n",
       "2025-07-16  0.555556\n",
       "2025-07-17  0.555556\n",
       "2025-07-18  1.000000\n",
       "2025-07-18  0.000000\n",
       "2025-07-19  1.000000\n",
       "2025-07-20  1.000000\n",
       "2025-07-21  1.000000\n",
       "2025-07-22  1.000000\n",
       "2025-07-23  1.000000\n",
       "2025-07-24  0.000000\n",
       "2025-07-24  1.000000\n",
       "2025-07-25  1.000000\n",
       "2025-07-26  1.000000\n",
       "2025-07-27  0.000000\n",
       "2025-07-28  0.000000\n",
       "2025-07-29  0.000000\n",
       "2025-07-30  0.000000\n",
       "2025-07-31  0.000000\n",
       "2025-08-01  0.000000\n",
       "2025-08-02  0.000000\n",
       "2025-08-03  0.000000\n",
       "2025-08-04  0.000000\n",
       "2025-08-05  0.000000\n",
       "2025-08-06  1.000000\n",
       "2025-08-07  1.000000\n",
       "2025-08-08  1.000000\n",
       "2025-08-09  1.000000\n",
       "2025-08-10  1.000000\n",
       "2025-08-11  1.000000"
      ]
     },
     "metadata": {},
     "output_type": "display_data"
    }
   ],
   "source": [
    "for unique_date in emotions['date'].unique():\n",
    "    if emotions['date'].value_counts()[unique_date] > 1:\n",
    "        sum = 0\n",
    "        counter = 0\n",
    "        mean = 0\n",
    "        auxiliar_dataframe = emotions.loc[emotions['date'] == unique_date]\n",
    "        \n",
    "        for row in auxiliar_dataframe.iterrows():\n",
    "            sum += row[1]['emotion']\n",
    "            counter += 1\n",
    "        \n",
    "        mean = sum / counter\n",
    "\n",
    "        aux = 0\n",
    "        for row in emotions.iterrows():\n",
    "            if row[1]['date'] == date:\n",
    "                if aux != 0:\n",
    "                    emotions.drop(row[0], inplace=True)\n",
    "                else:\n",
    "                    emotions.at[row[0], 'emotion'] = mean\n",
    "\n",
    "                aux += 1\n",
    "\n",
    "\n",
    "emotions.set_index(['date'], inplace=True)\n",
    "\n",
    "display(emotions)"
   ]
  },
  {
   "cell_type": "code",
   "execution_count": 758,
   "id": "033e2d4b",
   "metadata": {},
   "outputs": [],
   "source": [
    "def kpss_test(series):\n",
    "    # Teste Statistic <= Critical value = stationary series \n",
    "    kpss = st.kpss(series)\n",
    "    print('KPSS Test Statistic:', kpss[0])\n",
    "    print('p-value:', kpss[1])\n",
    "    print('Critical Values:')\n",
    "    for key, item in kpss[3].items():\n",
    "        print(f'   {key} : {item}')\n",
    "\n",
    "    if kpss[0] < kpss[3]['5%']:\n",
    "        print(f\"The {series.name} series is stationary.\")\n",
    "    else:\n",
    "        print(f\"The {series.name} series is not stationary.\")"
   ]
  },
  {
   "cell_type": "code",
   "execution_count": 759,
   "id": "5b020283",
   "metadata": {},
   "outputs": [
    {
     "name": "stdout",
     "output_type": "stream",
     "text": [
      "KPSS Test Statistic: 0.4876332074253129\n",
      "p-value: 0.04445198030961421\n",
      "Critical Values:\n",
      "   10% : 0.347\n",
      "   5% : 0.463\n",
      "   2.5% : 0.574\n",
      "   1% : 0.739\n",
      "The price series is not stationary.\n",
      "KPSS Test Statistic: 0.12841323174482983\n",
      "p-value: 0.1\n",
      "Critical Values:\n",
      "   10% : 0.347\n",
      "   5% : 0.463\n",
      "   2.5% : 0.574\n",
      "   1% : 0.739\n",
      "The emotion series is stationary.\n"
     ]
    },
    {
     "name": "stderr",
     "output_type": "stream",
     "text": [
      "C:\\Users\\gabri\\AppData\\Local\\Temp\\ipykernel_9524\\2030222486.py:3: InterpolationWarning: The test statistic is outside of the range of p-values available in the\n",
      "look-up table. The actual p-value is greater than the p-value returned.\n",
      "\n",
      "  kpss = st.kpss(series)\n"
     ]
    }
   ],
   "source": [
    "kpss_test(prices['price'])\n",
    "kpss_test(emotions['emotion'])"
   ]
  },
  {
   "cell_type": "code",
   "execution_count": 760,
   "id": "4a7905e3",
   "metadata": {},
   "outputs": [
    {
     "name": "stdout",
     "output_type": "stream",
     "text": [
      "KPSS Test Statistic: 0.17005453460273315\n",
      "p-value: 0.1\n",
      "Critical Values:\n",
      "   10% : 0.347\n",
      "   5% : 0.463\n",
      "   2.5% : 0.574\n",
      "   1% : 0.739\n",
      "The price_diff series is stationary.\n"
     ]
    },
    {
     "name": "stderr",
     "output_type": "stream",
     "text": [
      "C:\\Users\\gabri\\AppData\\Local\\Temp\\ipykernel_9524\\2030222486.py:3: InterpolationWarning: The test statistic is outside of the range of p-values available in the\n",
      "look-up table. The actual p-value is greater than the p-value returned.\n",
      "\n",
      "  kpss = st.kpss(series)\n"
     ]
    }
   ],
   "source": [
    "serie_diff = np.diff(prices['price'].astype(float))\n",
    "serie_diff = pd.Series(serie_diff, index=prices.index[1:])\n",
    "serie_diff.name = 'price_diff'\n",
    "\n",
    "kpss_test(serie_diff)"
   ]
  },
  {
   "cell_type": "code",
   "execution_count": 761,
   "id": "71145eba",
   "metadata": {},
   "outputs": [
    {
     "data": {
      "text/plain": [
       "((array([-2.01197163, -1.6105163 , -1.36883603, -1.1880445 , -1.03948072,\n",
       "         -0.91090285, -0.79586259, -0.69050407, -0.59231064, -0.49952733,\n",
       "         -0.41086261, -0.32532036, -0.24209833, -0.16052274, -0.08000327,\n",
       "          0.        ,  0.08000327,  0.16052274,  0.24209833,  0.32532036,\n",
       "          0.41086261,  0.49952733,  0.59231064,  0.69050407,  0.79586259,\n",
       "          0.91090285,  1.03948072,  1.1880445 ,  1.36883603,  1.6105163 ,\n",
       "          2.01197163]),\n",
       "  array([-0.44, -0.37, -0.2 , -0.19, -0.16, -0.12, -0.11, -0.09, -0.09,\n",
       "         -0.06, -0.06,  0.  ,  0.  ,  0.  ,  0.  ,  0.  ,  0.  ,  0.  ,\n",
       "          0.  ,  0.  ,  0.  ,  0.01,  0.02,  0.04,  0.04,  0.08,  0.08,\n",
       "          0.11,  0.11,  0.16,  0.27])),\n",
       " (np.float64(0.137581643675976),\n",
       "  np.float64(-0.03129032258064515),\n",
       "  np.float64(0.9440915460578349)))"
      ]
     },
     "execution_count": 761,
     "metadata": {},
     "output_type": "execute_result"
    },
    {
     "data": {
      "image/png": "[encoded data removed]",
      "text/plain": [
       "<Figure size 1500x600 with 1 Axes>"
      ]
     },
     "metadata": {},
     "output_type": "display_data"
    }
   ],
   "source": [
    "stats.probplot(serie_diff, dist=\"norm\", plot=plt)"
   ]
  },
  {
   "cell_type": "code",
   "execution_count": 762,
   "id": "086154d2",
   "metadata": {},
   "outputs": [],
   "source": [
    "concatenated = pd.concat(\n",
    "    [serie_diff.reset_index(drop=True),\n",
    "     emotions['emotion'].reset_index(drop=True)],\n",
    "    axis=1\n",
    ")\n",
    "concatenated.columns = ['price_diff', 'emotion']\n",
    "\n",
    "correlation = concatenated.corr()"
   ]
  },
  {
   "cell_type": "code",
   "execution_count": 763,
   "id": "0a8bda06",
   "metadata": {},
   "outputs": [
    {
     "data": {
      "image/png": "[encoded data removed]",
      "text/plain": [
       "<Figure size 1500x600 with 2 Axes>"
      ]
     },
     "metadata": {},
     "output_type": "display_data"
    }
   ],
   "source": [
    "plot = sns.heatmap(correlation, annot = True, fmt=\".2f\", linewidths=.6)\n",
    "plot\n",
    "plt.savefig(f\"Data/SLCE3_correlation_{shift_days}days.png\", dpi=300, bbox_inches='tight')"
   ]
  }
 ],
 "metadata": {
  "kernelspec": {
   "display_name": "Python 3",
   "language": "python",
   "name": "python3"
  },
  "language_info": {
   "codemirror_mode": {
    "name": "ipython",
    "version": 3
   },
   "file_extension": ".py",
   "mimetype": "text/x-python",
   "name": "python",
   "nbconvert_exporter": "python",
   "pygments_lexer": "ipython3",
   "version": "3.13.6"
  }
 },
 "nbformat": 4,
 "nbformat_minor": 5
}
